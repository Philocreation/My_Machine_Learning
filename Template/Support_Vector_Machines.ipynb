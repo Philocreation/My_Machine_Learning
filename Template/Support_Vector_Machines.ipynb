{
  "nbformat": 4,
  "nbformat_minor": 0,
  "metadata": {
    "colab": {
      "name": "Support_Vector Machines.ipynb",
      "provenance": [],
      "collapsed_sections": [],
      "authorship_tag": "ABX9TyM7850ouN05X5zm4SzHazkU",
      "include_colab_link": true
    },
    "kernelspec": {
      "name": "python3",
      "display_name": "Python 3"
    },
    "language_info": {
      "name": "python"
    }
  },
  "cells": [
    {
      "cell_type": "markdown",
      "metadata": {
        "id": "view-in-github",
        "colab_type": "text"
      },
      "source": [
        "<a href=\"https://colab.research.google.com/github/Philocreation/My_Machine_Learning/blob/main/Template/Support_Vector_Machines.ipynb\" target=\"_parent\"><img src=\"https://colab.research.google.com/assets/colab-badge.svg\" alt=\"Open In Colab\"/></a>"
      ]
    },
    {
      "cell_type": "markdown",
      "source": [
        "# 서포트 벡터 머신(Support Vector Machines)"
      ],
      "metadata": {
        "id": "nZfU0DlU2jF9"
      }
    },
    {
      "cell_type": "markdown",
      "source": [
        "* 회귀, 분류, 이상치 탐지 등에 사용되는 지도학습 방법\n",
        "* 클래스 사이의 경계에 위치한 데이터 포인트를 서포트 벡터(support vector)라고 함\n",
        "* 각 지지 벡터가 클래스 사이의 결정 경계를 구분하는데 얼마나 중요한지를 학습\n",
        "* 각 지지 벡터 사이의 마진이 가장 큰 방향으로 학습\n",
        "* 지지 벡터 까지의 거리와 지지 벡터의 중요도를 기반으로 예측을 수행\n",
        "\n",
        "![support vector machine](https://upload.wikimedia.org/wikipedia/commons/thumb/2/20/Svm_separating_hyperplanes.png/220px-Svm_separating_hyperplanes.png)\n",
        "\n",
        "* H3은 두 클래스의 점들을 제대로 분류하고 있지 않음\n",
        "* H1과 H2는 두 클래스의 점들을 분류하는데, H2가 H1보다 더 큰 마진을 갖고 분류하는 것을 확인할 수 있음"
      ],
      "metadata": {
        "id": "dKzu3s_L2j3V"
      }
    },
    {
      "cell_type": "code",
      "execution_count": 1,
      "metadata": {
        "id": "ZapbGMor2SDY"
      },
      "outputs": [],
      "source": [
        "import multiprocessing\n",
        "import pandas as pd\n",
        "import numpy as np\n",
        "import matplotlib.pyplot as plt\n",
        "plt.style.use(['seaborn-whitegrid'])"
      ]
    },
    {
      "cell_type": "code",
      "source": [
        "from sklearn.svm import SVR, SVC\n",
        "from sklearn.datasets import load_boston,load_diabetes\n",
        "from sklearn.datasets import load_breast_cancer, load_iris, load_wine\n",
        "from sklearn.pipeline import make_pipeline, Pipeline\n",
        "from sklearn.model_selection import train_test_split, cross_validate, GridSearchCV\n",
        "from sklearn.preprocessing import StandardScaler, MinMaxScaler\n",
        "from sklearn.manifold import TSNE"
      ],
      "metadata": {
        "id": "G0A8OiNQ6HyV"
      },
      "execution_count": 3,
      "outputs": []
    },
    {
      "cell_type": "markdown",
      "source": [
        "# SVM을 이요한 회귀 모델과 분류 모델 "
      ],
      "metadata": {
        "id": "2UcFbMWI7JKb"
      }
    },
    {
      "cell_type": "markdown",
      "source": [
        "## SVM을 사용한 회귀 모델(SVR)"
      ],
      "metadata": {
        "id": "RsYSEWby7NIC"
      }
    },
    {
      "cell_type": "code",
      "source": [
        "X, y = load_boston(return_X_y=True)\n",
        "X_train, X_test, y_train, y_test = train_test_split(X,y, random_state=123)\n",
        "\n",
        "model = SVR()\n",
        "model.fit(X_train,y_train)\n",
        "\n",
        "print(\"학습 데이터 점수 = {}\".format(model.score(X_train,y_train)))\n",
        "print(\"평가 데이터 점수 = {}\".format(model.score(X_test,y_test)))"
      ],
      "metadata": {
        "colab": {
          "base_uri": "https://localhost:8080/"
        },
        "id": "dvyPcU2r7AJK",
        "outputId": "62587523-f690-4b7f-b917-e8feb0d5c46f"
      },
      "execution_count": 5,
      "outputs": [
        {
          "output_type": "stream",
          "name": "stdout",
          "text": [
            "학습 데이터 점수 = 0.2177283706374875\n",
            "평가 데이터 점수 = 0.13544178468518187\n"
          ]
        },
        {
          "output_type": "stream",
          "name": "stderr",
          "text": [
            "/usr/local/lib/python3.7/dist-packages/sklearn/utils/deprecation.py:87: FutureWarning: Function load_boston is deprecated; `load_boston` is deprecated in 1.0 and will be removed in 1.2.\n",
            "\n",
            "    The Boston housing prices dataset has an ethical problem. You can refer to\n",
            "    the documentation of this function for further details.\n",
            "\n",
            "    The scikit-learn maintainers therefore strongly discourage the use of this\n",
            "    dataset unless the purpose of the code is to study and educate about\n",
            "    ethical issues in data science and machine learning.\n",
            "\n",
            "    In this special case, you can fetch the dataset from the original\n",
            "    source::\n",
            "\n",
            "        import pandas as pd\n",
            "        import numpy as np\n",
            "\n",
            "\n",
            "        data_url = \"http://lib.stat.cmu.edu/datasets/boston\"\n",
            "        raw_df = pd.read_csv(data_url, sep=\"\\s+\", skiprows=22, header=None)\n",
            "        data = np.hstack([raw_df.values[::2, :], raw_df.values[1::2, :2]])\n",
            "        target = raw_df.values[1::2, 2]\n",
            "\n",
            "    Alternative datasets include the California housing dataset (i.e.\n",
            "    :func:`~sklearn.datasets.fetch_california_housing`) and the Ames housing\n",
            "    dataset. You can load the datasets as follows::\n",
            "\n",
            "        from sklearn.datasets import fetch_california_housing\n",
            "        housing = fetch_california_housing()\n",
            "\n",
            "    for the California housing dataset and::\n",
            "\n",
            "        from sklearn.datasets import fetch_openml\n",
            "        housing = fetch_openml(name=\"house_prices\", as_frame=True)\n",
            "\n",
            "    for the Ames housing dataset.\n",
            "    \n",
            "  warnings.warn(msg, category=FutureWarning)\n"
          ]
        }
      ]
    },
    {
      "cell_type": "markdown",
      "source": [
        "## SVM을 사용한 분류 모델 (SVC)"
      ],
      "metadata": {
        "id": "Gl1WeQZC8AMk"
      }
    },
    {
      "cell_type": "code",
      "source": [
        "X, y = load_breast_cancer(return_X_y=True)\n",
        "X_train, X_test, y_train, y_test = train_test_split(X,y, random_state=123)\n",
        "\n",
        "model = SVC()\n",
        "model.fit(X_train,y_train)\n",
        "\n",
        "print(\"학습 데이터 점수 = {}\".format(model.score(X_train,y_train)))\n",
        "print(\"평가 데이터 점수 = {}\".format(model.score(X_test,y_test)))"
      ],
      "metadata": {
        "colab": {
          "base_uri": "https://localhost:8080/"
        },
        "id": "6KzipezQ8C-Z",
        "outputId": "af0b5ff8-a454-4b62-d862-2d082d16bfce"
      },
      "execution_count": 6,
      "outputs": [
        {
          "output_type": "stream",
          "name": "stdout",
          "text": [
            "학습 데이터 점수 = 0.9014084507042254\n",
            "평가 데이터 점수 = 0.9230769230769231\n"
          ]
        }
      ]
    },
    {
      "cell_type": "markdown",
      "source": [
        "# 커널 기법\n",
        "\n",
        "* 입력 데이터를 고차원 공간에 사상해서 비선형 특징을 학습할 수 있도록 확장하는 방법\n",
        "* scikit-learn에서는 Linear, Polynomial, RBF(Radial Basis Function)등 다양한 커널 기법을 지원\n",
        "\n",
        "![kernel trick](https://scikit-learn.org/stable/_images/sphx_glr_plot_iris_svc_0011.png)"
      ],
      "metadata": {
        "id": "ZT69MHgg8cGE"
      }
    },
    {
      "cell_type": "code",
      "source": [
        "X, y = load_boston(return_X_y=True)\n",
        "X_train, X_test, y_train, y_test = train_test_split(X,y, random_state=123)\n",
        "\n",
        "linear_svr = SVR(kernel='linear')\n",
        "linear_svr.fit(X_train,y_train)\n",
        "\n",
        "print(\"linear_SVR 학습 데이터 점수 = {}\".format(linear_svr.score(X_train,y_train)))\n",
        "print(\"linear_SVR 평가 데이터 점수 = {}\".format(linear_svr.score(X_test,y_test)))\n",
        "\n",
        "polynomial_svr = SVR(kernel='poly')\n",
        "polynomial_svr.fit(X_train,y_train)\n",
        "\n",
        "print(\"polynomial_svr 학습 데이터 점수 = {}\".format(polynomial_svr.score(X_train,y_train)))\n",
        "print(\"polynomial_svr 평가 데이터 점수 = {}\".format(polynomial_svr.score(X_test,y_test)))\n",
        "\n",
        "rbf_svr = SVR(kernel='rbf')\n",
        "rbf_svr.fit(X_train,y_train)\n",
        "\n",
        "print(\"rbf_svr 학습 데이터 점수 = {}\".format(rbf_svr.score(X_train,y_train)))\n",
        "print(\"rbf_svr 평가 데이터 점수 = {}\".format(rbf_svr.score(X_test,y_test)))"
      ],
      "metadata": {
        "colab": {
          "base_uri": "https://localhost:8080/"
        },
        "id": "3jOAoTiY8bFY",
        "outputId": "e8a9e3f9-e534-4351-cbdc-35b7a76d84cc"
      },
      "execution_count": 9,
      "outputs": [
        {
          "output_type": "stream",
          "name": "stderr",
          "text": [
            "/usr/local/lib/python3.7/dist-packages/sklearn/utils/deprecation.py:87: FutureWarning: Function load_boston is deprecated; `load_boston` is deprecated in 1.0 and will be removed in 1.2.\n",
            "\n",
            "    The Boston housing prices dataset has an ethical problem. You can refer to\n",
            "    the documentation of this function for further details.\n",
            "\n",
            "    The scikit-learn maintainers therefore strongly discourage the use of this\n",
            "    dataset unless the purpose of the code is to study and educate about\n",
            "    ethical issues in data science and machine learning.\n",
            "\n",
            "    In this special case, you can fetch the dataset from the original\n",
            "    source::\n",
            "\n",
            "        import pandas as pd\n",
            "        import numpy as np\n",
            "\n",
            "\n",
            "        data_url = \"http://lib.stat.cmu.edu/datasets/boston\"\n",
            "        raw_df = pd.read_csv(data_url, sep=\"\\s+\", skiprows=22, header=None)\n",
            "        data = np.hstack([raw_df.values[::2, :], raw_df.values[1::2, :2]])\n",
            "        target = raw_df.values[1::2, 2]\n",
            "\n",
            "    Alternative datasets include the California housing dataset (i.e.\n",
            "    :func:`~sklearn.datasets.fetch_california_housing`) and the Ames housing\n",
            "    dataset. You can load the datasets as follows::\n",
            "\n",
            "        from sklearn.datasets import fetch_california_housing\n",
            "        housing = fetch_california_housing()\n",
            "\n",
            "    for the California housing dataset and::\n",
            "\n",
            "        from sklearn.datasets import fetch_openml\n",
            "        housing = fetch_openml(name=\"house_prices\", as_frame=True)\n",
            "\n",
            "    for the Ames housing dataset.\n",
            "    \n",
            "  warnings.warn(msg, category=FutureWarning)\n"
          ]
        },
        {
          "output_type": "stream",
          "name": "stdout",
          "text": [
            "linear_SVR 학습 데이터 점수 = 0.715506620496448\n",
            "linear_SVR 평가 데이터 점수 = 0.6380398541506058\n",
            "polynomial_svr 학습 데이터 점수 = 0.2024454261446289\n",
            "polynomial_svr 평가 데이터 점수 = 0.133668450367462\n",
            "rbf_svr 학습 데이터 점수 = 0.2177283706374875\n",
            "rbf_svr 평가 데이터 점수 = 0.13544178468518187\n"
          ]
        }
      ]
    },
    {
      "cell_type": "code",
      "source": [
        "X, y = load_breast_cancer(return_X_y=True)\n",
        "X_train, X_test, y_train, y_test = train_test_split(X,y, random_state=123)\n",
        "\n",
        "linear_svc = SVC(kernel='linear')\n",
        "linear_svc.fit(X_train,y_train)\n",
        "\n",
        "print(\"linear_SVC 학습 데이터 점수 = {}\".format(linear_svc.score(X_train,y_train)))\n",
        "print(\"linear_SVC 평가 데이터 점수 = {}\".format(linear_svc.score(X_test,y_test)))\n",
        "\n",
        "polynomial_svc = SVC(kernel='poly')\n",
        "polynomial_svc.fit(X_train,y_train)\n",
        "\n",
        "print(\"polynomial_svc 학습 데이터 점수 = {}\".format(polynomial_svc.score(X_train,y_train)))\n",
        "print(\"polynomial_svc 평가 데이터 점수 = {}\".format(polynomial_svc.score(X_test,y_test)))\n",
        "\n",
        "rbf_svc = SVC(kernel='rbf')\n",
        "rbf_svc.fit(X_train,y_train)\n",
        "\n",
        "print(\"rbf_svc 학습 데이터 점수 = {}\".format(rbf_svc.score(X_train,y_train)))\n",
        "print(\"rbf_svc 평가 데이터 점수 = {}\".format(rbf_svc.score(X_test,y_test)))"
      ],
      "metadata": {
        "colab": {
          "base_uri": "https://localhost:8080/"
        },
        "id": "0czGv6g59Xfp",
        "outputId": "910ea5f6-d8ba-4fdb-9f58-23ee94c46f07"
      },
      "execution_count": 11,
      "outputs": [
        {
          "output_type": "stream",
          "name": "stdout",
          "text": [
            "linear_SVC 학습 데이터 점수 = 0.960093896713615\n",
            "linear_SVC 평가 데이터 점수 = 0.986013986013986\n",
            "polynomial_svc 학습 데이터 점수 = 0.9014084507042254\n",
            "polynomial_svc 평가 데이터 점수 = 0.9230769230769231\n",
            "rbf_svc 학습 데이터 점수 = 0.9014084507042254\n",
            "rbf_svc 평가 데이터 점수 = 0.9230769230769231\n"
          ]
        }
      ]
    },
    {
      "cell_type": "markdown",
      "source": [
        "## 매개변수 튜닝\n",
        "\n",
        "* SVM은 사용하는 커널에 따라 다양한 매개변수 설정 가능\n",
        "* 매개변수를 변경하면서 성능변화를 관찰"
      ],
      "metadata": {
        "id": "3Jg59TdB-dTa"
      }
    },
    {
      "cell_type": "code",
      "source": [
        "X, y = load_breast_cancer(return_X_y=True)\n",
        "X_train, X_test, y_train, y_test = train_test_split(X,y, random_state=123)"
      ],
      "metadata": {
        "id": "3T1BgKl0-gZr"
      },
      "execution_count": 12,
      "outputs": []
    },
    {
      "cell_type": "code",
      "source": [
        "polynomial_svc = SVC(kernel='poly', degree=2, C=0.1, gamma='auto')\n",
        "polynomial_svc.fit(X_train,y_train)\n",
        "\n",
        "print('kernel=poly, degree={}, c={}, gamma={}'.format(2, 0.1, 'auto'))\n",
        "print(\"polynomial_svc 학습 데이터 점수 = {}\".format(polynomial_svc.score(X_train,y_train)))\n",
        "print(\"polynomial_svc 평가 데이터 점수 = {}\".format(polynomial_svc.score(X_test,y_test)))"
      ],
      "metadata": {
        "colab": {
          "base_uri": "https://localhost:8080/"
        },
        "id": "n53KnugI-mrv",
        "outputId": "f0312831-cb30-4001-e133-8210564dd37d"
      },
      "execution_count": 13,
      "outputs": [
        {
          "output_type": "stream",
          "name": "stdout",
          "text": [
            "kernel=poly, degree=2, c=0.1, gamma=auto\n",
            "polynomial_svc 학습 데이터 점수 = 0.9835680751173709\n",
            "polynomial_svc 평가 데이터 점수 = 0.993006993006993\n"
          ]
        }
      ]
    },
    {
      "cell_type": "code",
      "source": [
        "rbf_svc = SVC(kernel='rbf', C=2.0, gamma='scale')\n",
        "rbf_svc.fit(X_train,y_train)\n",
        "\n",
        "print('kernel=rbf, C={},gamma={}'.format(2.0,'scale'))\n",
        "print(\"rbf_svc 학습 데이터 점수 = {}\".format(rbf_svc.score(X_train,y_train)))\n",
        "print(\"rbf_svc 평가 데이터 점수 = {}\".format(rbf_svc.score(X_test,y_test)))"
      ],
      "metadata": {
        "colab": {
          "base_uri": "https://localhost:8080/"
        },
        "id": "EMMBhUOw_XO6",
        "outputId": "221d8182-83b0-4c2d-8f86-6e7a01516eec"
      },
      "execution_count": 16,
      "outputs": [
        {
          "output_type": "stream",
          "name": "stdout",
          "text": [
            "kernel=rbf, C=2.0,gamma=scale\n",
            "rbf_svc 학습 데이터 점수 = 0.9154929577464789\n",
            "rbf_svc 평가 데이터 점수 = 0.9370629370629371\n"
          ]
        }
      ]
    },
    {
      "cell_type": "markdown",
      "source": [
        "## 데이터 전처리\n",
        "\n",
        "* SVM은 입력 데이터가 정규화 되어야 좋은 성능을 보임\n",
        "* 주로 모든 특성 값을 [0, 1] 범위로 맞추는 방법을 사용\n",
        "* scikit-learn의 StandardScaler 또는 MinMaxScaler를 사용해 정규화"
      ],
      "metadata": {
        "id": "IJDbsPGG-aN5"
      }
    }
  ]
}