{
  "nbformat": 4,
  "nbformat_minor": 0,
  "metadata": {
    "colab": {
      "name": "red/white wine_cleaning(+ ML).ipynb",
      "provenance": [],
      "collapsed_sections": [],
      "mount_file_id": "1wuJi1W8GmAwHgQho8MwzKmc7A7hbK5MX",
      "authorship_tag": "ABX9TyMek39nqyAs7KEzk+Ta8229",
      "include_colab_link": true
    },
    "kernelspec": {
      "name": "python3",
      "display_name": "Python 3"
    },
    "language_info": {
      "name": "python"
    }
  },
  "cells": [
    {
      "cell_type": "markdown",
      "metadata": {
        "id": "view-in-github",
        "colab_type": "text"
      },
      "source": [
        "<a href=\"https://colab.research.google.com/github/Philocreation/Practice_Data_Cleaning/blob/main/red_white_wine_cleaning(%2B_ML).ipynb\" target=\"_parent\"><img src=\"https://colab.research.google.com/assets/colab-badge.svg\" alt=\"Open In Colab\"/></a>"
      ]
    },
    {
      "cell_type": "markdown",
      "source": [
        "# csv 파일 불러오기 "
      ],
      "metadata": {
        "id": "6yfxF6Zs5dL5"
      }
    },
    {
      "cell_type": "code",
      "metadata": {
        "id": "GGaduFKjEUOq"
      },
      "source": [
        "import numpy as np\n",
        "import pandas as pd\n",
        "from pandas import DataFrame\n",
        "import matplotlib.pyplot as plt\n",
        "import seaborn as sns"
      ],
      "execution_count": null,
      "outputs": []
    },
    {
      "cell_type": "code",
      "source": [
        "df_red = pd.read_csv('/content/drive/MyDrive/winequality-red.csv', sep=';')\n",
        "#df_red.head(10)\n",
        "df_white = pd.read_csv('/content/drive/MyDrive/winequality-white.csv', sep=';')\n",
        "#df_white.head(10)"
      ],
      "metadata": {
        "id": "kV83OMWpYY6m"
      },
      "execution_count": null,
      "outputs": []
    },
    {
      "cell_type": "markdown",
      "source": [
        "# 이상치, 결측치 생략(이미 정제된 실습데이터 받음)"
      ],
      "metadata": {
        "id": "K7B_ZzJruXQG"
      }
    },
    {
      "cell_type": "markdown",
      "source": [
        "# t - 검정 "
      ],
      "metadata": {
        "id": "i-UJtHJSuku9"
      }
    },
    {
      "cell_type": "code",
      "source": [
        "red_quality = df_red.iloc[:,-1:]\n",
        "white_quality = df_white.iloc[:,-1:]"
      ],
      "metadata": {
        "id": "NSFHktphuoIq"
      },
      "execution_count": null,
      "outputs": []
    },
    {
      "cell_type": "code",
      "source": [
        "red_quality_mean = df_red.iloc[:,-1:].mean()\n",
        "red_quality_mean"
      ],
      "metadata": {
        "colab": {
          "base_uri": "https://localhost:8080/"
        },
        "id": "Pvx94wwjxUI8",
        "outputId": "76761dbf-2a2c-4cb5-cbe2-c2589ab3412c"
      },
      "execution_count": null,
      "outputs": [
        {
          "output_type": "execute_result",
          "data": {
            "text/plain": [
              "quality    5.636023\n",
              "dtype: float64"
            ]
          },
          "metadata": {},
          "execution_count": 4
        }
      ]
    },
    {
      "cell_type": "code",
      "source": [
        "from scipy import stats\n",
        "\n",
        "qua = df_red.quality\n",
        "result = stats.ttest_1samp(qua, 5.6)\n",
        "print('t statistic : %.3f \\np-value : %.3f' % (result))"
      ],
      "metadata": {
        "colab": {
          "base_uri": "https://localhost:8080/"
        },
        "id": "4IaP6-uRv2QG",
        "outputId": "edf6ba7d-06a8-42cb-ee93-d6cc72a66594"
      },
      "execution_count": null,
      "outputs": [
        {
          "output_type": "stream",
          "name": "stdout",
          "text": [
            "t statistic : 1.784 \n",
            "p-value : 0.075\n"
          ]
        }
      ]
    },
    {
      "cell_type": "code",
      "source": [
        "#df_mix.quality.mean()"
      ],
      "metadata": {
        "id": "KVCrGrNT2bDm",
        "colab": {
          "base_uri": "https://localhost:8080/",
          "height": 172
        },
        "outputId": "5cd88b16-00f5-4752-ca83-2f3e1e7e2a18"
      },
      "execution_count": null,
      "outputs": [
        {
          "output_type": "error",
          "ename": "NameError",
          "evalue": "ignored",
          "traceback": [
            "\u001b[0;31m---------------------------------------------------------------------------\u001b[0m",
            "\u001b[0;31mNameError\u001b[0m                                 Traceback (most recent call last)",
            "\u001b[0;32m<ipython-input-6-2e4d2d6e3135>\u001b[0m in \u001b[0;36m<module>\u001b[0;34m()\u001b[0m\n\u001b[0;32m----> 1\u001b[0;31m \u001b[0mdf_mix\u001b[0m\u001b[0;34m.\u001b[0m\u001b[0mquality\u001b[0m\u001b[0;34m.\u001b[0m\u001b[0mmean\u001b[0m\u001b[0;34m(\u001b[0m\u001b[0;34m)\u001b[0m\u001b[0;34m\u001b[0m\u001b[0;34m\u001b[0m\u001b[0m\n\u001b[0m",
            "\u001b[0;31mNameError\u001b[0m: name 'df_mix' is not defined"
          ]
        }
      ]
    },
    {
      "cell_type": "code",
      "source": [
        "df_mix = pd.concat([df_red,df_white])\n",
        "\n",
        "qua = df_mix.quality\n",
        "result = stats.ttest_1samp(qua, 5.818)\n",
        "print('t statistic : %.3f \\np-value : %.3f' % (result))"
      ],
      "metadata": {
        "colab": {
          "base_uri": "https://localhost:8080/"
        },
        "id": "1rAuo3RIxs9k",
        "outputId": "a65dc0a2-80f8-4781-93e3-8d7002ce0c9c"
      },
      "execution_count": null,
      "outputs": [
        {
          "output_type": "stream",
          "name": "stdout",
          "text": [
            "t statistic : 0.035 \n",
            "p-value : 0.972\n"
          ]
        }
      ]
    },
    {
      "cell_type": "markdown",
      "source": [
        "# 상관관계 분석"
      ],
      "metadata": {
        "id": "Ff9PpGnu4P-t"
      }
    },
    {
      "cell_type": "code",
      "source": [
        "plt.figure(figsize = (10,10))\n",
        "\n",
        "sns.heatmap(df_mix.corr(), annot=True)"
      ],
      "metadata": {
        "colab": {
          "base_uri": "https://localhost:8080/",
          "height": 688
        },
        "id": "zoy0S_QH4ffw",
        "outputId": "65cadd18-9e15-49f5-907a-f1eb23d1d3cb"
      },
      "execution_count": null,
      "outputs": [
        {
          "output_type": "execute_result",
          "data": {
            "text/plain": [
              "<matplotlib.axes._subplots.AxesSubplot at 0x7ffb04cfc290>"
            ]
          },
          "metadata": {},
          "execution_count": 8
        },
        {
          "output_type": "display_data",
          "data": {
            "image/png": "[encoded data removed]",
            "text/plain": [
              "<Figure size 720x720 with 2 Axes>"
            ]
          },
          "metadata": {
            "needs_background": "light"
          }
        }
      ]
    },
    {
      "cell_type": "markdown",
      "source": [
        "# nomalization"
      ],
      "metadata": {
        "id": "8WxtIQzS5zPV"
      }
    },
    {
      "cell_type": "code",
      "source": [
        "df_nomal = (df_mix - df_mix.min()) / (df_mix.max() - df_mix.min())\n",
        "df_nomal"
      ],
      "metadata": {
        "colab": {
          "base_uri": "https://localhost:8080/",
          "height": 478
        },
        "id": "bI4bMI4K51xl",
        "outputId": "b780bd45-dc6f-4019-cb22-3bfce374366d"
      },
      "execution_count": null,
      "outputs": [
        {
          "output_type": "execute_result",
          "data": {
            "text/html": [
              "<div>\n",
              "<style scoped>\n",
              "    .dataframe tbody tr th:only-of-type {\n",
              "        vertical-align: middle;\n",
              "    }\n",
              "\n",
              "    .dataframe tbody tr th {\n",
              "        vertical-align: top;\n",
              "    }\n",
              "\n",
              "    .dataframe thead th {\n",
              "        text-align: right;\n",
              "    }\n",
              "</style>\n",
              "<table border=\"1\" class=\"dataframe\">\n",
              "  <thead>\n",
              "    <tr style=\"text-align: right;\">\n",
              "      <th></th>\n",
              "      <th>fixed acidity</th>\n",
              "      <th>volatile acidity</th>\n",
              "      <th>citric acid</th>\n",
              "      <th>residual sugar</th>\n",
              "      <th>chlorides</th>\n",
              "      <th>free sulfur dioxide</th>\n",
              "      <th>total sulfur dioxide</th>\n",
              "      <th>density</th>\n",
              "      <th>pH</th>\n",
              "      <th>sulphates</th>\n",
              "      <th>alcohol</th>\n",
              "      <th>quality</th>\n",
              "    </tr>\n",
              "  </thead>\n",
              "  <tbody>\n",
              "    <tr>\n",
              "      <th>0</th>\n",
              "      <td>0.297521</td>\n",
              "      <td>0.413333</td>\n",
              "      <td>0.000000</td>\n",
              "      <td>0.019939</td>\n",
              "      <td>0.111296</td>\n",
              "      <td>0.034722</td>\n",
              "      <td>0.064516</td>\n",
              "      <td>0.206092</td>\n",
              "      <td>0.612403</td>\n",
              "      <td>0.191011</td>\n",
              "      <td>0.202899</td>\n",
              "      <td>0.333333</td>\n",
              "    </tr>\n",
              "    <tr>\n",
              "      <th>1</th>\n",
              "      <td>0.330579</td>\n",
              "      <td>0.533333</td>\n",
              "      <td>0.000000</td>\n",
              "      <td>0.030675</td>\n",
              "      <td>0.147841</td>\n",
              "      <td>0.083333</td>\n",
              "      <td>0.140553</td>\n",
              "      <td>0.186813</td>\n",
              "      <td>0.372093</td>\n",
              "      <td>0.258427</td>\n",
              "      <td>0.260870</td>\n",
              "      <td>0.333333</td>\n",
              "    </tr>\n",
              "    <tr>\n",
              "      <th>2</th>\n",
              "      <td>0.330579</td>\n",
              "      <td>0.453333</td>\n",
              "      <td>0.024096</td>\n",
              "      <td>0.026074</td>\n",
              "      <td>0.137874</td>\n",
              "      <td>0.048611</td>\n",
              "      <td>0.110599</td>\n",
              "      <td>0.190669</td>\n",
              "      <td>0.418605</td>\n",
              "      <td>0.241573</td>\n",
              "      <td>0.260870</td>\n",
              "      <td>0.333333</td>\n",
              "    </tr>\n",
              "    <tr>\n",
              "      <th>3</th>\n",
              "      <td>0.611570</td>\n",
              "      <td>0.133333</td>\n",
              "      <td>0.337349</td>\n",
              "      <td>0.019939</td>\n",
              "      <td>0.109635</td>\n",
              "      <td>0.055556</td>\n",
              "      <td>0.124424</td>\n",
              "      <td>0.209948</td>\n",
              "      <td>0.341085</td>\n",
              "      <td>0.202247</td>\n",
              "      <td>0.260870</td>\n",
              "      <td>0.500000</td>\n",
              "    </tr>\n",
              "    <tr>\n",
              "      <th>4</th>\n",
              "      <td>0.297521</td>\n",
              "      <td>0.413333</td>\n",
              "      <td>0.000000</td>\n",
              "      <td>0.019939</td>\n",
              "      <td>0.111296</td>\n",
              "      <td>0.034722</td>\n",
              "      <td>0.064516</td>\n",
              "      <td>0.206092</td>\n",
              "      <td>0.612403</td>\n",
              "      <td>0.191011</td>\n",
              "      <td>0.202899</td>\n",
              "      <td>0.333333</td>\n",
              "    </tr>\n",
              "    <tr>\n",
              "      <th>...</th>\n",
              "      <td>...</td>\n",
              "      <td>...</td>\n",
              "      <td>...</td>\n",
              "      <td>...</td>\n",
              "      <td>...</td>\n",
              "      <td>...</td>\n",
              "      <td>...</td>\n",
              "      <td>...</td>\n",
              "      <td>...</td>\n",
              "      <td>...</td>\n",
              "      <td>...</td>\n",
              "      <td>...</td>\n",
              "    </tr>\n",
              "    <tr>\n",
              "      <th>4893</th>\n",
              "      <td>0.198347</td>\n",
              "      <td>0.086667</td>\n",
              "      <td>0.174699</td>\n",
              "      <td>0.015337</td>\n",
              "      <td>0.049834</td>\n",
              "      <td>0.079861</td>\n",
              "      <td>0.198157</td>\n",
              "      <td>0.077694</td>\n",
              "      <td>0.426357</td>\n",
              "      <td>0.157303</td>\n",
              "      <td>0.463768</td>\n",
              "      <td>0.500000</td>\n",
              "    </tr>\n",
              "    <tr>\n",
              "      <th>4894</th>\n",
              "      <td>0.231405</td>\n",
              "      <td>0.160000</td>\n",
              "      <td>0.216867</td>\n",
              "      <td>0.113497</td>\n",
              "      <td>0.063123</td>\n",
              "      <td>0.194444</td>\n",
              "      <td>0.373272</td>\n",
              "      <td>0.150183</td>\n",
              "      <td>0.333333</td>\n",
              "      <td>0.134831</td>\n",
              "      <td>0.231884</td>\n",
              "      <td>0.333333</td>\n",
              "    </tr>\n",
              "    <tr>\n",
              "      <th>4895</th>\n",
              "      <td>0.223140</td>\n",
              "      <td>0.106667</td>\n",
              "      <td>0.114458</td>\n",
              "      <td>0.009202</td>\n",
              "      <td>0.053156</td>\n",
              "      <td>0.100694</td>\n",
              "      <td>0.241935</td>\n",
              "      <td>0.104685</td>\n",
              "      <td>0.209302</td>\n",
              "      <td>0.134831</td>\n",
              "      <td>0.202899</td>\n",
              "      <td>0.500000</td>\n",
              "    </tr>\n",
              "    <tr>\n",
              "      <th>4896</th>\n",
              "      <td>0.140496</td>\n",
              "      <td>0.140000</td>\n",
              "      <td>0.180723</td>\n",
              "      <td>0.007669</td>\n",
              "      <td>0.021595</td>\n",
              "      <td>0.065972</td>\n",
              "      <td>0.239631</td>\n",
              "      <td>0.030461</td>\n",
              "      <td>0.480620</td>\n",
              "      <td>0.089888</td>\n",
              "      <td>0.695652</td>\n",
              "      <td>0.666667</td>\n",
              "    </tr>\n",
              "    <tr>\n",
              "      <th>4897</th>\n",
              "      <td>0.181818</td>\n",
              "      <td>0.086667</td>\n",
              "      <td>0.228916</td>\n",
              "      <td>0.003067</td>\n",
              "      <td>0.018272</td>\n",
              "      <td>0.072917</td>\n",
              "      <td>0.211982</td>\n",
              "      <td>0.044342</td>\n",
              "      <td>0.418605</td>\n",
              "      <td>0.056180</td>\n",
              "      <td>0.550725</td>\n",
              "      <td>0.500000</td>\n",
              "    </tr>\n",
              "  </tbody>\n",
              "</table>\n",
              "<p>6497 rows × 12 columns</p>\n",
              "</div>"
            ],
            "text/plain": [
              "      fixed acidity  volatile acidity  ...   alcohol   quality\n",
              "0          0.297521          0.413333  ...  0.202899  0.333333\n",
              "1          0.330579          0.533333  ...  0.260870  0.333333\n",
              "2          0.330579          0.453333  ...  0.260870  0.333333\n",
              "3          0.611570          0.133333  ...  0.260870  0.500000\n",
              "4          0.297521          0.413333  ...  0.202899  0.333333\n",
              "...             ...               ...  ...       ...       ...\n",
              "4893       0.198347          0.086667  ...  0.463768  0.500000\n",
              "4894       0.231405          0.160000  ...  0.231884  0.333333\n",
              "4895       0.223140          0.106667  ...  0.202899  0.500000\n",
              "4896       0.140496          0.140000  ...  0.695652  0.666667\n",
              "4897       0.181818          0.086667  ...  0.550725  0.500000\n",
              "\n",
              "[6497 rows x 12 columns]"
            ]
          },
          "metadata": {},
          "execution_count": 9
        }
      ]
    },
    {
      "cell_type": "markdown",
      "source": [
        "#다중 공선성 "
      ],
      "metadata": {
        "id": "463ukKA26X17"
      }
    },
    {
      "cell_type": "code",
      "source": [
        "from statsmodels.stats.outliers_influence import variance_inflation_factor\n",
        "import statsmodels.api as sm\n",
        "\n",
        "vif = pd.DataFrame()\n",
        "vif['VIF Factor'] = [variance_inflation_factor(df_mix.values, i)\n",
        "                     for i in range(df_mix.shape[1])]\n",
        "vif[\"features\"] = df_mix.columns\n",
        "print(vif)"
      ],
      "metadata": {
        "colab": {
          "base_uri": "https://localhost:8080/"
        },
        "id": "WeSEktJe78Nx",
        "outputId": "bd7b5b28-cbd9-4fcc-ec03-9a22fb73c43a"
      },
      "execution_count": null,
      "outputs": [
        {
          "output_type": "stream",
          "name": "stderr",
          "text": [
            "/usr/local/lib/python3.7/dist-packages/statsmodels/tools/_testing.py:19: FutureWarning: pandas.util.testing is deprecated. Use the functions in the public API at pandas.testing instead.\n",
            "  import pandas.util.testing as tm\n"
          ]
        },
        {
          "output_type": "stream",
          "name": "stdout",
          "text": [
            "    VIF Factor              features\n",
            "0    58.907356         fixed acidity\n",
            "1     9.502423      volatile acidity\n",
            "2     9.343181           citric acid\n",
            "3     3.623418        residual sugar\n",
            "4     5.580536             chlorides\n",
            "5     8.534873   free sulfur dioxide\n",
            "6    14.886028  total sulfur dioxide\n",
            "7   943.737171               density\n",
            "8   589.521304                    pH\n",
            "9    18.722063             sulphates\n",
            "10  130.008984               alcohol\n",
            "11   63.920799               quality\n"
          ]
        }
      ]
    },
    {
      "cell_type": "code",
      "source": [
        "from statsmodels.stats.outliers_influence import variance_inflation_factor\n",
        "import statsmodels.api as sm\n",
        "\n",
        "vif = pd.DataFrame()\n",
        "vif['VIF Factor'] = [variance_inflation_factor(df_nomal.values, i)\n",
        "                     for i in range(df_nomal.shape[1])]\n",
        "vif[\"features\"] = df_nomal.columns\n",
        "print(vif)"
      ],
      "metadata": {
        "colab": {
          "base_uri": "https://localhost:8080/"
        },
        "id": "5KbFho8d6aGK",
        "outputId": "28dbd6cd-c3a1-484d-a508-d91c5151bfe9"
      },
      "execution_count": null,
      "outputs": [
        {
          "output_type": "stream",
          "name": "stdout",
          "text": [
            "    VIF Factor              features\n",
            "0    38.815648         fixed acidity\n",
            "1     6.965016      volatile acidity\n",
            "2     9.178386           citric acid\n",
            "3    14.553379        residual sugar\n",
            "4     4.502076             chlorides\n",
            "5     8.121453   free sulfur dioxide\n",
            "6    11.111983  total sulfur dioxide\n",
            "7   110.785172               density\n",
            "8    25.583094                    pH\n",
            "9     8.334871             sulphates\n",
            "10   22.894101               alcohol\n",
            "11   14.405229               quality\n"
          ]
        }
      ]
    },
    {
      "cell_type": "code",
      "source": [
        "df_nomal_drop = df_nomal.drop(['density'], axis=1)\n",
        "df_nomal_drop"
      ],
      "metadata": {
        "colab": {
          "base_uri": "https://localhost:8080/",
          "height": 478
        },
        "id": "Kj0ZPDwC8ef6",
        "outputId": "4ee19ee9-3fb1-4ecc-e2bc-829725c4f3d0"
      },
      "execution_count": null,
      "outputs": [
        {
          "output_type": "execute_result",
          "data": {
            "text/html": [
              "<div>\n",
              "<style scoped>\n",
              "    .dataframe tbody tr th:only-of-type {\n",
              "        vertical-align: middle;\n",
              "    }\n",
              "\n",
              "    .dataframe tbody tr th {\n",
              "        vertical-align: top;\n",
              "    }\n",
              "\n",
              "    .dataframe thead th {\n",
              "        text-align: right;\n",
              "    }\n",
              "</style>\n",
              "<table border=\"1\" class=\"dataframe\">\n",
              "  <thead>\n",
              "    <tr style=\"text-align: right;\">\n",
              "      <th></th>\n",
              "      <th>fixed acidity</th>\n",
              "      <th>volatile acidity</th>\n",
              "      <th>citric acid</th>\n",
              "      <th>residual sugar</th>\n",
              "      <th>chlorides</th>\n",
              "      <th>free sulfur dioxide</th>\n",
              "      <th>total sulfur dioxide</th>\n",
              "      <th>pH</th>\n",
              "      <th>sulphates</th>\n",
              "      <th>alcohol</th>\n",
              "      <th>quality</th>\n",
              "    </tr>\n",
              "  </thead>\n",
              "  <tbody>\n",
              "    <tr>\n",
              "      <th>0</th>\n",
              "      <td>0.297521</td>\n",
              "      <td>0.413333</td>\n",
              "      <td>0.000000</td>\n",
              "      <td>0.019939</td>\n",
              "      <td>0.111296</td>\n",
              "      <td>0.034722</td>\n",
              "      <td>0.064516</td>\n",
              "      <td>0.612403</td>\n",
              "      <td>0.191011</td>\n",
              "      <td>0.202899</td>\n",
              "      <td>0.333333</td>\n",
              "    </tr>\n",
              "    <tr>\n",
              "      <th>1</th>\n",
              "      <td>0.330579</td>\n",
              "      <td>0.533333</td>\n",
              "      <td>0.000000</td>\n",
              "      <td>0.030675</td>\n",
              "      <td>0.147841</td>\n",
              "      <td>0.083333</td>\n",
              "      <td>0.140553</td>\n",
              "      <td>0.372093</td>\n",
              "      <td>0.258427</td>\n",
              "      <td>0.260870</td>\n",
              "      <td>0.333333</td>\n",
              "    </tr>\n",
              "    <tr>\n",
              "      <th>2</th>\n",
              "      <td>0.330579</td>\n",
              "      <td>0.453333</td>\n",
              "      <td>0.024096</td>\n",
              "      <td>0.026074</td>\n",
              "      <td>0.137874</td>\n",
              "      <td>0.048611</td>\n",
              "      <td>0.110599</td>\n",
              "      <td>0.418605</td>\n",
              "      <td>0.241573</td>\n",
              "      <td>0.260870</td>\n",
              "      <td>0.333333</td>\n",
              "    </tr>\n",
              "    <tr>\n",
              "      <th>3</th>\n",
              "      <td>0.611570</td>\n",
              "      <td>0.133333</td>\n",
              "      <td>0.337349</td>\n",
              "      <td>0.019939</td>\n",
              "      <td>0.109635</td>\n",
              "      <td>0.055556</td>\n",
              "      <td>0.124424</td>\n",
              "      <td>0.341085</td>\n",
              "      <td>0.202247</td>\n",
              "      <td>0.260870</td>\n",
              "      <td>0.500000</td>\n",
              "    </tr>\n",
              "    <tr>\n",
              "      <th>4</th>\n",
              "      <td>0.297521</td>\n",
              "      <td>0.413333</td>\n",
              "      <td>0.000000</td>\n",
              "      <td>0.019939</td>\n",
              "      <td>0.111296</td>\n",
              "      <td>0.034722</td>\n",
              "      <td>0.064516</td>\n",
              "      <td>0.612403</td>\n",
              "      <td>0.191011</td>\n",
              "      <td>0.202899</td>\n",
              "      <td>0.333333</td>\n",
              "    </tr>\n",
              "    <tr>\n",
              "      <th>...</th>\n",
              "      <td>...</td>\n",
              "      <td>...</td>\n",
              "      <td>...</td>\n",
              "      <td>...</td>\n",
              "      <td>...</td>\n",
              "      <td>...</td>\n",
              "      <td>...</td>\n",
              "      <td>...</td>\n",
              "      <td>...</td>\n",
              "      <td>...</td>\n",
              "      <td>...</td>\n",
              "    </tr>\n",
              "    <tr>\n",
              "      <th>4893</th>\n",
              "      <td>0.198347</td>\n",
              "      <td>0.086667</td>\n",
              "      <td>0.174699</td>\n",
              "      <td>0.015337</td>\n",
              "      <td>0.049834</td>\n",
              "      <td>0.079861</td>\n",
              "      <td>0.198157</td>\n",
              "      <td>0.426357</td>\n",
              "      <td>0.157303</td>\n",
              "      <td>0.463768</td>\n",
              "      <td>0.500000</td>\n",
              "    </tr>\n",
              "    <tr>\n",
              "      <th>4894</th>\n",
              "      <td>0.231405</td>\n",
              "      <td>0.160000</td>\n",
              "      <td>0.216867</td>\n",
              "      <td>0.113497</td>\n",
              "      <td>0.063123</td>\n",
              "      <td>0.194444</td>\n",
              "      <td>0.373272</td>\n",
              "      <td>0.333333</td>\n",
              "      <td>0.134831</td>\n",
              "      <td>0.231884</td>\n",
              "      <td>0.333333</td>\n",
              "    </tr>\n",
              "    <tr>\n",
              "      <th>4895</th>\n",
              "      <td>0.223140</td>\n",
              "      <td>0.106667</td>\n",
              "      <td>0.114458</td>\n",
              "      <td>0.009202</td>\n",
              "      <td>0.053156</td>\n",
              "      <td>0.100694</td>\n",
              "      <td>0.241935</td>\n",
              "      <td>0.209302</td>\n",
              "      <td>0.134831</td>\n",
              "      <td>0.202899</td>\n",
              "      <td>0.500000</td>\n",
              "    </tr>\n",
              "    <tr>\n",
              "      <th>4896</th>\n",
              "      <td>0.140496</td>\n",
              "      <td>0.140000</td>\n",
              "      <td>0.180723</td>\n",
              "      <td>0.007669</td>\n",
              "      <td>0.021595</td>\n",
              "      <td>0.065972</td>\n",
              "      <td>0.239631</td>\n",
              "      <td>0.480620</td>\n",
              "      <td>0.089888</td>\n",
              "      <td>0.695652</td>\n",
              "      <td>0.666667</td>\n",
              "    </tr>\n",
              "    <tr>\n",
              "      <th>4897</th>\n",
              "      <td>0.181818</td>\n",
              "      <td>0.086667</td>\n",
              "      <td>0.228916</td>\n",
              "      <td>0.003067</td>\n",
              "      <td>0.018272</td>\n",
              "      <td>0.072917</td>\n",
              "      <td>0.211982</td>\n",
              "      <td>0.418605</td>\n",
              "      <td>0.056180</td>\n",
              "      <td>0.550725</td>\n",
              "      <td>0.500000</td>\n",
              "    </tr>\n",
              "  </tbody>\n",
              "</table>\n",
              "<p>6497 rows × 11 columns</p>\n",
              "</div>"
            ],
            "text/plain": [
              "      fixed acidity  volatile acidity  ...   alcohol   quality\n",
              "0          0.297521          0.413333  ...  0.202899  0.333333\n",
              "1          0.330579          0.533333  ...  0.260870  0.333333\n",
              "2          0.330579          0.453333  ...  0.260870  0.333333\n",
              "3          0.611570          0.133333  ...  0.260870  0.500000\n",
              "4          0.297521          0.413333  ...  0.202899  0.333333\n",
              "...             ...               ...  ...       ...       ...\n",
              "4893       0.198347          0.086667  ...  0.463768  0.500000\n",
              "4894       0.231405          0.160000  ...  0.231884  0.333333\n",
              "4895       0.223140          0.106667  ...  0.202899  0.500000\n",
              "4896       0.140496          0.140000  ...  0.695652  0.666667\n",
              "4897       0.181818          0.086667  ...  0.550725  0.500000\n",
              "\n",
              "[6497 rows x 11 columns]"
            ]
          },
          "metadata": {},
          "execution_count": 12
        }
      ]
    },
    {
      "cell_type": "code",
      "source": [
        "vif = pd.DataFrame()\n",
        "vif['VIF Factor'] = [variance_inflation_factor(df_nomal_drop.values, i)\n",
        "                     for i in range(df_nomal_drop.shape[1])]\n",
        "vif[\"features\"] = df_nomal_drop.columns\n",
        "print(vif)"
      ],
      "metadata": {
        "colab": {
          "base_uri": "https://localhost:8080/"
        },
        "id": "k7sI0X1E9Eg8",
        "outputId": "3cf56940-2fe0-49a8-ba3f-4dbd8baf9f21"
      },
      "execution_count": null,
      "outputs": [
        {
          "output_type": "stream",
          "name": "stdout",
          "text": [
            "    VIF Factor              features\n",
            "0    11.173054         fixed acidity\n",
            "1     5.924229      volatile acidity\n",
            "2     9.159616           citric acid\n",
            "3     3.036144        residual sugar\n",
            "4     4.234540             chlorides\n",
            "5     8.121387   free sulfur dioxide\n",
            "6    11.043806  total sulfur dioxide\n",
            "7    10.495199                    pH\n",
            "8     7.337868             sulphates\n",
            "9     8.252486               alcohol\n",
            "10   14.393953               quality\n"
          ]
        }
      ]
    },
    {
      "cell_type": "code",
      "source": [
        "df_nomal_drop1 = df_nomal_drop.drop(['pH'], axis=1)"
      ],
      "metadata": {
        "id": "Gva6HhRf9c1-"
      },
      "execution_count": null,
      "outputs": []
    },
    {
      "cell_type": "code",
      "source": [
        "vif = pd.DataFrame()\n",
        "vif['VIF Factor'] = [variance_inflation_factor(df_nomal_drop1.values, i)\n",
        "                     for i in range(df_nomal_drop1.shape[1])]\n",
        "vif[\"features\"] = df_nomal_drop1.columns\n",
        "print(vif)"
      ],
      "metadata": {
        "colab": {
          "base_uri": "https://localhost:8080/"
        },
        "id": "h9pU2FEu9ul9",
        "outputId": "42642692-5479-4b78-a8c5-3f2687d9e33e"
      },
      "execution_count": null,
      "outputs": [
        {
          "output_type": "stream",
          "name": "stdout",
          "text": [
            "   VIF Factor              features\n",
            "0   11.025950         fixed acidity\n",
            "1    5.026236      volatile acidity\n",
            "2    9.158841           citric acid\n",
            "3    3.014030        residual sugar\n",
            "4    4.225511             chlorides\n",
            "5    8.094917   free sulfur dioxide\n",
            "6   10.780120  total sulfur dioxide\n",
            "7    6.843180             sulphates\n",
            "8    8.020865               alcohol\n",
            "9   13.390715               quality\n"
          ]
        }
      ]
    },
    {
      "cell_type": "code",
      "source": [
        "df_nomal_drop2 = df_nomal_drop1.drop(['quality'], axis=1)"
      ],
      "metadata": {
        "id": "d5vxTTeY_HTt"
      },
      "execution_count": null,
      "outputs": []
    },
    {
      "cell_type": "code",
      "source": [
        "vif = pd.DataFrame()\n",
        "vif['VIF Factor'] = [variance_inflation_factor(df_nomal_drop2.values, i)\n",
        "                     for i in range(df_nomal_drop2.shape[1])]\n",
        "vif[\"features\"] = df_nomal_drop2.columns\n",
        "print(vif)"
      ],
      "metadata": {
        "colab": {
          "base_uri": "https://localhost:8080/"
        },
        "id": "WybvXJhx_hhC",
        "outputId": "1219cf3a-ad4f-49c9-9925-1d464785f4a2"
      },
      "execution_count": null,
      "outputs": [
        {
          "output_type": "stream",
          "name": "stdout",
          "text": [
            "   VIF Factor              features\n",
            "0   10.699809         fixed acidity\n",
            "1    4.991984      volatile acidity\n",
            "2    9.151600           citric acid\n",
            "3    2.927900        residual sugar\n",
            "4    4.216336             chlorides\n",
            "5    7.958456   free sulfur dioxide\n",
            "6   10.687198  total sulfur dioxide\n",
            "7    6.578816             sulphates\n",
            "8    4.709154               alcohol\n"
          ]
        }
      ]
    },
    {
      "cell_type": "code",
      "source": [
        "df_nomal_drop3 = df_nomal_drop2.drop(['fixed acidity','total sulfur dioxide'], axis=1)"
      ],
      "metadata": {
        "id": "3UpuRSH5_p3h"
      },
      "execution_count": null,
      "outputs": []
    },
    {
      "cell_type": "code",
      "source": [
        "vif = pd.DataFrame()\n",
        "vif['VIF Factor'] = [variance_inflation_factor(df_nomal_drop3.values, i)\n",
        "                     for i in range(df_nomal_drop3.shape[1])]\n",
        "vif[\"features\"] = df_nomal_drop3.columns\n",
        "print(vif)"
      ],
      "metadata": {
        "colab": {
          "base_uri": "https://localhost:8080/"
        },
        "id": "EaPgzEKn_zoU",
        "outputId": "15a43b99-5a20-4d5b-def5-96a135aac621"
      },
      "execution_count": null,
      "outputs": [
        {
          "output_type": "stream",
          "name": "stdout",
          "text": [
            "   VIF Factor             features\n",
            "0    4.170899     volatile acidity\n",
            "1    5.931332          citric acid\n",
            "2    2.619190       residual sugar\n",
            "3    4.149401            chlorides\n",
            "4    4.030852  free sulfur dioxide\n",
            "5    6.182672            sulphates\n",
            "6    4.665457              alcohol\n"
          ]
        }
      ]
    },
    {
      "cell_type": "markdown",
      "source": [
        "# 훈련, 테스트 만들기"
      ],
      "metadata": {
        "id": "P0lWoqZCIDFh"
      }
    },
    {
      "cell_type": "code",
      "source": [
        "from sklearn.model_selection import train_test_split\n",
        "from sklearn.linear_model import LinearRegression "
      ],
      "metadata": {
        "id": "CdGKWV7mH5E-"
      },
      "execution_count": null,
      "outputs": []
    },
    {
      "cell_type": "code",
      "source": [
        "inde_var = df_nomal_drop3.to_numpy()\n",
        "print(inde_var.shape)\n",
        "de_var = df_nomal.iloc[:,-1:].to_numpy()\n",
        "print(de_var.shape)"
      ],
      "metadata": {
        "colab": {
          "base_uri": "https://localhost:8080/"
        },
        "id": "3lriomsJH5Cu",
        "outputId": "74ef223d-86be-465c-9bbd-599e5fedbc61"
      },
      "execution_count": null,
      "outputs": [
        {
          "output_type": "stream",
          "name": "stdout",
          "text": [
            "(6497, 7)\n",
            "(6497, 1)\n"
          ]
        }
      ]
    },
    {
      "cell_type": "code",
      "source": [
        "\n",
        "train_input, test_input, train_target, test_target = train_test_split(\n",
        "    inde_var,de_var, random_state=42)\n",
        "\n",
        "#train_input = train_input.reshape(-1,1)\n",
        "#test_input = test_input.reshape(-1,1)\n",
        "\n",
        "#print(train_input.shape)\n",
        "print(type(train_input))\n",
        "print(type(train_target))\n",
        "#print(test_input.shape)\n",
        "#print(train_target.shape)\n",
        "#print(test_target.shape)\n"
      ],
      "metadata": {
        "colab": {
          "base_uri": "https://localhost:8080/"
        },
        "id": "ljNDbsusH5Ai",
        "outputId": "8656c25c-49a4-4344-8c8d-07ad60d675fb"
      },
      "execution_count": null,
      "outputs": [
        {
          "output_type": "stream",
          "name": "stdout",
          "text": [
            "<class 'numpy.ndarray'>\n",
            "<class 'numpy.ndarray'>\n"
          ]
        }
      ]
    },
    {
      "cell_type": "code",
      "source": [
        "from sklearn.preprocessing import PolynomialFeatures"
      ],
      "metadata": {
        "id": "enYOL_9HObTD"
      },
      "execution_count": null,
      "outputs": []
    },
    {
      "cell_type": "code",
      "source": [
        "poly = PolynomialFeatures(include_bias=False)\n",
        "\n",
        "poly.fit(train_input)\n",
        "train_poly = poly.transform(train_input)"
      ],
      "metadata": {
        "id": "KfImKJmPOhAU"
      },
      "execution_count": null,
      "outputs": []
    },
    {
      "cell_type": "code",
      "source": [
        "print(train_poly.shape)\n",
        "print(train_target.shape)\n",
        "print(test_input.shape)\n",
        "print(test_target.shape)"
      ],
      "metadata": {
        "colab": {
          "base_uri": "https://localhost:8080/"
        },
        "id": "H7XLcV_zOg54",
        "outputId": "875c26f0-6966-46d7-8682-e5e18edcc248"
      },
      "execution_count": null,
      "outputs": [
        {
          "output_type": "stream",
          "name": "stdout",
          "text": [
            "(4872, 35)\n",
            "(4872, 1)\n",
            "(1625, 7)\n",
            "(1625, 1)\n"
          ]
        }
      ]
    },
    {
      "cell_type": "code",
      "source": [
        ""
      ],
      "metadata": {
        "id": "Tt2irKPhOgy9"
      },
      "execution_count": null,
      "outputs": []
    },
    {
      "cell_type": "markdown",
      "source": [
        "# 다중 선형 회귀 "
      ],
      "metadata": {
        "id": "ZssYXKhLcN4O"
      }
    },
    {
      "cell_type": "code",
      "source": [
        "lr = LinearRegression()\n",
        "lr.fit(train_poly, train_target)\n",
        "\n",
        "print(lr.score(train_poly, train_target))"
      ],
      "metadata": {
        "colab": {
          "base_uri": "https://localhost:8080/"
        },
        "id": "gdgmrdxiLvuB",
        "outputId": "f6b8d9ae-78a4-4171-ec17-fabf3f5e2013"
      },
      "execution_count": null,
      "outputs": [
        {
          "output_type": "stream",
          "name": "stdout",
          "text": [
            "0.3209076896113958\n"
          ]
        }
      ]
    },
    {
      "cell_type": "markdown",
      "source": [
        "# OLS"
      ],
      "metadata": {
        "id": "R4WbaYVnWEqL"
      }
    },
    {
      "cell_type": "code",
      "source": [
        "model = sm.OLS(train_target, train_poly)\n",
        "results = model.fit()\n",
        "print(results.summary())"
      ],
      "metadata": {
        "colab": {
          "base_uri": "https://localhost:8080/"
        },
        "id": "RbpG8dUhWGj3",
        "outputId": "d9befc20-5a3e-49b8-c007-c233e491a9a0"
      },
      "execution_count": null,
      "outputs": [
        {
          "output_type": "stream",
          "name": "stdout",
          "text": [
            "                                 OLS Regression Results                                \n",
            "=======================================================================================\n",
            "Dep. Variable:                      y   R-squared (uncentered):                   0.939\n",
            "Model:                            OLS   Adj. R-squared (uncentered):              0.939\n",
            "Method:                 Least Squares   F-statistic:                              2146.\n",
            "Date:                Mon, 13 Dec 2021   Prob (F-statistic):                        0.00\n",
            "Time:                        04:38:06   Log-Likelihood:                          3371.0\n",
            "No. Observations:                4872   AIC:                                     -6672.\n",
            "Df Residuals:                    4837   BIC:                                     -6445.\n",
            "Df Model:                          35                                                  \n",
            "Covariance Type:            nonrobust                                                  \n",
            "==============================================================================\n",
            "                 coef    std err          t      P>|t|      [0.025      0.975]\n",
            "------------------------------------------------------------------------------\n",
            "x1            -0.1428      0.103     -1.381      0.167      -0.346       0.060\n",
            "x2             0.3883      0.113      3.432      0.001       0.166       0.610\n",
            "x3             0.8674      0.133      6.534      0.000       0.607       1.128\n",
            "x4             1.0240      0.242      4.235      0.000       0.550       1.498\n",
            "x5             1.9360      0.168     11.543      0.000       1.607       2.265\n",
            "x6             1.0916      0.137      7.975      0.000       0.823       1.360\n",
            "x7             0.5046      0.066      7.669      0.000       0.376       0.634\n",
            "x8             0.0307      0.126      0.245      0.807      -0.215       0.277\n",
            "x9            -0.2329      0.247     -0.942      0.346      -0.718       0.252\n",
            "x10           -0.8252      0.406     -2.035      0.042      -1.620      -0.030\n",
            "x11           -0.2294      0.423     -0.542      0.588      -1.059       0.600\n",
            "x12           -1.5334      0.417     -3.678      0.000      -2.351      -0.716\n",
            "x13           -0.1854      0.288     -0.644      0.520      -0.750       0.379\n",
            "x14            0.2715      0.136      1.996      0.046       0.005       0.538\n",
            "x15           -0.5264      0.175     -3.013      0.003      -0.869      -0.184\n",
            "x16           -0.0536      0.375     -0.143      0.886      -0.788       0.681\n",
            "x17           -0.0636      0.440     -0.144      0.885      -0.927       0.800\n",
            "x18           -0.4725      0.420     -1.125      0.261      -1.296       0.351\n",
            "x19           -0.3156      0.308     -1.025      0.305      -0.919       0.288\n",
            "x20            0.0406      0.140      0.289      0.773      -0.235       0.316\n",
            "x21            0.2710      0.225      1.204      0.229      -0.170       0.712\n",
            "x22           -0.6807      0.842     -0.808      0.419      -2.332       0.970\n",
            "x23           -1.3749      0.514     -2.673      0.008      -2.383      -0.367\n",
            "x24           -1.6525      0.454     -3.640      0.000      -2.542      -0.763\n",
            "x25           -0.4081      0.207     -1.972      0.049      -0.814      -0.002\n",
            "x26           -0.3385      0.283     -1.195      0.232      -0.894       0.217\n",
            "x27           -2.6180      0.784     -3.338      0.001      -4.155      -1.080\n",
            "x28           -0.5766      0.402     -1.435      0.151      -1.364       0.211\n",
            "x29           -1.3699      0.334     -4.103      0.000      -2.024      -0.715\n",
            "x30           -3.0104      0.334     -9.009      0.000      -3.666      -2.355\n",
            "x31           -2.4089      0.450     -5.351      0.000      -3.291      -1.526\n",
            "x32            0.1782      0.226      0.790      0.430      -0.264       0.620\n",
            "x33           -0.5301      0.129     -4.124      0.000      -0.782      -0.278\n",
            "x34           -0.2962      0.151     -1.964      0.050      -0.592      -0.001\n",
            "x35            0.0110      0.064      0.172      0.864      -0.115       0.137\n",
            "==============================================================================\n",
            "Omnibus:                       78.888   Durbin-Watson:                   2.044\n",
            "Prob(Omnibus):                  0.000   Jarque-Bera (JB):              138.353\n",
            "Skew:                           0.110   Prob(JB):                     9.06e-31\n",
            "Kurtosis:                       3.796   Cond. No.                         319.\n",
            "==============================================================================\n",
            "\n",
            "Warnings:\n",
            "[1] Standard Errors assume that the covariance matrix of the errors is correctly specified.\n"
          ]
        }
      ]
    },
    {
      "cell_type": "markdown",
      "source": [
        "# 결정 트리"
      ],
      "metadata": {
        "id": "DZFtP7fVE90C"
      }
    },
    {
      "cell_type": "code",
      "source": [
        "from sklearn.tree import DecisionTreeClassifier\n",
        "from sklearn.model_selection import train_test_split\n",
        "from sklearn.tree import export_graphviz\n",
        "import graphviz"
      ],
      "metadata": {
        "id": "EKKrkGqPWrgd"
      },
      "execution_count": null,
      "outputs": []
    },
    {
      "cell_type": "code",
      "source": [
        "dt_clf = DecisionTreeClassifier()\n",
        "y_target = df_mix['quality']\n",
        "x_data = df_mix.drop('quality', axis=1, inplace=False)\n",
        "train_input, test_input, train_target, test_target = train_test_split(\n",
        "    x_data,y_target,test_size=0.2, random_state=42)\n",
        "\n",
        "\n",
        "dt_clf.fit(train_input,train_target)"
      ],
      "metadata": {
        "colab": {
          "base_uri": "https://localhost:8080/"
        },
        "id": "xF5004cwFWuc",
        "outputId": "d5b5f7eb-3bbc-4d22-fb78-81f5f7766abe"
      },
      "execution_count": null,
      "outputs": [
        {
          "output_type": "execute_result",
          "data": {
            "text/plain": [
              "DecisionTreeClassifier()"
            ]
          },
          "metadata": {},
          "execution_count": 93
        }
      ]
    },
    {
      "cell_type": "code",
      "source": [
        "print(train_input.shape)\n",
        "print(train_target.shape)"
      ],
      "metadata": {
        "colab": {
          "base_uri": "https://localhost:8080/",
          "height": 190
        },
        "id": "QElqXemxQzyc",
        "outputId": "374cb9d8-61fd-4b90-a7ec-9f95e4b57962"
      },
      "execution_count": null,
      "outputs": [
        {
          "output_type": "error",
          "ename": "AttributeError",
          "evalue": "ignored",
          "traceback": [
            "\u001b[0;31m---------------------------------------------------------------------------\u001b[0m",
            "\u001b[0;31mAttributeError\u001b[0m                            Traceback (most recent call last)",
            "\u001b[0;32m<ipython-input-106-609a8d521e07>\u001b[0m in \u001b[0;36m<module>\u001b[0;34m()\u001b[0m\n\u001b[0;32m----> 1\u001b[0;31m \u001b[0mprint\u001b[0m\u001b[0;34m(\u001b[0m\u001b[0mdf_mix\u001b[0m\u001b[0;34m.\u001b[0m\u001b[0mcolumns\u001b[0m\u001b[0;34m[\u001b[0m\u001b[0;36m11\u001b[0m\u001b[0;34m]\u001b[0m\u001b[0;34m.\u001b[0m\u001b[0mshape\u001b[0m\u001b[0;34m)\u001b[0m\u001b[0;34m\u001b[0m\u001b[0;34m\u001b[0m\u001b[0m\n\u001b[0m\u001b[1;32m      2\u001b[0m \u001b[0mprint\u001b[0m\u001b[0;34m(\u001b[0m\u001b[0mdf_mix\u001b[0m\u001b[0;34m.\u001b[0m\u001b[0mcolumns\u001b[0m\u001b[0;34m[\u001b[0m\u001b[0;34m:\u001b[0m\u001b[0;36m10\u001b[0m\u001b[0;34m]\u001b[0m\u001b[0;34m.\u001b[0m\u001b[0mshape\u001b[0m\u001b[0;34m)\u001b[0m\u001b[0;34m\u001b[0m\u001b[0;34m\u001b[0m\u001b[0m\n",
            "\u001b[0;31mAttributeError\u001b[0m: 'str' object has no attribute 'shape'"
          ]
        }
      ]
    },
    {
      "cell_type": "code",
      "source": [
        "df_mix.columns[:11]"
      ],
      "metadata": {
        "colab": {
          "base_uri": "https://localhost:8080/"
        },
        "id": "IZBGnhdMWpj6",
        "outputId": "00413eb5-33f7-4798-be5e-3c7bcf7ead73"
      },
      "execution_count": null,
      "outputs": [
        {
          "output_type": "execute_result",
          "data": {
            "text/plain": [
              "Index(['fixed acidity', 'volatile acidity', 'citric acid', 'residual sugar',\n",
              "       'chlorides', 'free sulfur dioxide', 'total sulfur dioxide', 'density',\n",
              "       'pH', 'sulphates', 'alcohol'],\n",
              "      dtype='object')"
            ]
          },
          "metadata": {},
          "execution_count": 112
        }
      ]
    },
    {
      "cell_type": "code",
      "source": [
        "#target_names = df_mix.columns[11]\n",
        "#feature_names = df_mix.columns[1:10]\n",
        "\n",
        "export_graphviz(dt_clf, out_file=\"tree.dot\", class_names=df_mix.columns[11], \\\n",
        "                feature_names = df_mix.columns[:11], impurity=True, filled=True)"
      ],
      "metadata": {
        "id": "dLb30EdLHcHi"
      },
      "execution_count": null,
      "outputs": []
    },
    {
      "cell_type": "code",
      "source": [
        "import graphviz\n",
        "with open(\"tree.dot\") as f:\n",
        "  dot_graph = f.read()\n",
        "graphviz.Source(dot_graph)"
      ],
      "metadata": {
        "id": "Cd-6IMljOBZh"
      },
      "execution_count": null,
      "outputs": []
    }
  ]
}